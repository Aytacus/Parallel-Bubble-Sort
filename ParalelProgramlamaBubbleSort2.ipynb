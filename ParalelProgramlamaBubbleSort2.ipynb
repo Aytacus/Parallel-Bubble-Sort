{
  "cells": [
    {
      "attachments": {},
      "cell_type": "markdown",
      "metadata": {
        "id": "aCp11sk1pHnD"
      },
      "source": [
        "# **Seri Bubble Sort**"
      ]
    },
    {
      "cell_type": "code",
      "execution_count": null,
      "metadata": {
        "colab": {
          "base_uri": "https://localhost:8080/"
        },
        "id": "_w_LSiptltCJ",
        "outputId": "12300e26-a8d3-48af-ea90-16cea96e1cd3"
      },
      "outputs": [],
      "source": [
        "import time\n",
        "import random\n",
        "\n",
        "class Timer:\n",
        "    def start(self):\n",
        "        self.start_time = time.perf_counter()\n",
        "\n",
        "    def stop(self):\n",
        "        self.stop_time = time.perf_counter()\n",
        "        elapsed_time = (self.stop_time - self.start_time) * 1000\n",
        "        print(f\"{elapsed_time:.2f} ms'de tamamlandı.\")\n",
        "\n",
        "def bubble_sort(arr):\n",
        "    n = len(arr)\n",
        "    # Tüm elemanlar sıralanana kadar döngüyü çalıştır\n",
        "    for i in range(n):\n",
        "        swapped = False  # Bayrak, herhangi bir yer değiştirme işlemi yapıldığını belirtir\n",
        "        # Her bir geçişte, son i eleman zaten sıralı olduğu için onları kontrol etme\n",
        "        for j in range(0, n-i-1):\n",
        "            # Elemanlar sırasıyla karşılaştırılıp yer değiştirilir\n",
        "            if arr[j] > arr[j+1]:\n",
        "                arr[j], arr[j+1] = arr[j+1], arr[j]\n",
        "                swapped = True  # Yer değiştirme yapıldı\n",
        "        # Herhangi bir yer değiştirme yapılmadıysa, dizi zaten sıralıdır ve döngüyü sonlandır\n",
        "        if not swapped:\n",
        "            break\n",
        "    return arr\n",
        "\n",
        "# Zamanlayıcıyı başlat\n",
        "timer = Timer()\n",
        "\n",
        "# 10,000 elemanlı bir dizi oluştur\n",
        "arr = [random.randint(1, 100000) for _ in range(10000)]\n",
        "\n",
        "# Bubble Sort'u çalıştır ve süreyi ölç\n",
        "timer.start()\n",
        "sorted_arr = bubble_sort(arr)\n",
        "timer.stop()\n",
        "\n",
        "print(\"Sıralanmış dizi:\", sorted_arr[:100])  # Dizi uzun olacağı için ilk 100 elemanı yazdırıyoruz.\n"
      ]
    },
    {
      "attachments": {},
      "cell_type": "markdown",
      "metadata": {
        "id": "vg1hOpDzH1kr"
      },
      "source": [
        "## Ardışık paralel Bubble Sort"
      ]
    },
    {
      "cell_type": "code",
      "execution_count": null,
      "metadata": {
        "colab": {
          "base_uri": "https://localhost:8080/"
        },
        "id": "LdOAvWJI8fLo",
        "outputId": "60857793-cf9a-48a2-83e0-491db5758b5d"
      },
      "outputs": [],
      "source": [
        "import concurrent.futures\n",
        "import random\n",
        "import time\n",
        "\n",
        "class Timer:\n",
        "    def start(self):\n",
        "        self.start_time = time.perf_counter()\n",
        "\n",
        "    def stop(self):\n",
        "        self.stop_time = time.perf_counter()\n",
        "        elapsed_time = (self.stop_time - self.start_time) * 1000\n",
        "        return elapsed_time\n",
        "\n",
        "def bubble_sort(arr):\n",
        "    n = len(arr)\n",
        "    for i in range(n):\n",
        "        swapped = False\n",
        "        for j in range(0, n - i - 1):\n",
        "            if arr[j] > arr[j+1]:\n",
        "                arr[j], arr[j+1] = arr[j+1], arr[j]\n",
        "                swapped = True\n",
        "        if not swapped:\n",
        "            break\n",
        "    return arr\n",
        "\n",
        "def merge_sorted_chunks(chunks):\n",
        "    merged = []\n",
        "    while chunks:\n",
        "        min_val = min(chunk[0] for chunk in chunks if chunk)\n",
        "        for chunk in chunks:\n",
        "            if chunk and chunk[0] == min_val:\n",
        "                merged.append(chunk.pop(0))\n",
        "                if not chunk:\n",
        "                    chunks.remove(chunk)\n",
        "                break\n",
        "    return merged\n",
        "\n",
        "def parallel_bubble_sort(arr, num_chunks):\n",
        "    n = len(arr)\n",
        "    chunk_size = n // num_chunks\n",
        "    chunks = [arr[i:i + chunk_size] for i in range(0, n, chunk_size)]\n",
        "\n",
        "    # Paralel sıralama işlemi zamanlaması\n",
        "    parallel_timer = Timer()\n",
        "    parallel_timer.start()\n",
        "\n",
        "    with concurrent.futures.ProcessPoolExecutor(max_workers=num_chunks) as executor:\n",
        "        futures = [executor.submit(bubble_sort, chunk) for chunk in chunks]\n",
        "        results = [future.result() for future in futures]\n",
        "\n",
        "    parallel_time = parallel_timer.stop()\n",
        "\n",
        "    # Seri birleştirme işlemi zamanlaması\n",
        "    sequential_timer = Timer()\n",
        "    sequential_timer.start()\n",
        "\n",
        "    sorted_arr = merge_sorted_chunks(results)\n",
        "\n",
        "    sequential_time = sequential_timer.stop()\n",
        "\n",
        "    return sorted_arr, parallel_time, sequential_time\n",
        "\n",
        "# Rastgele dizi oluşturma (10,000 eleman)\n",
        "arr = [random.randint(1, 100000) for _ in range(10000)]\n",
        "\n",
        "# Dizi 4 parçaya bölünecek\n",
        "num_chunks = 4\n",
        "\n",
        "# Paralel Bubble Sort'u çalıştırma\n",
        "sorted_arr, parallel_time, sequential_time = parallel_bubble_sort(arr, num_chunks)\n",
        "\n",
        "# Süreleri yazdırma\n",
        "print(f\"Paralel kısım süresi: {parallel_time:.2f} ms\")\n",
        "print(f\"Seri kısım (merge) süresi: {sequential_time:.2f} ms\")\n",
        "\n",
        "# Hız oranını hesaplama\n",
        "if parallel_time > 0:  # ZeroDivisionError kontrolü\n",
        "    speedup_ratio = parallel_time / sequential_time\n",
        "    print(f\"Seri kısmın paralel kısma göre hız oranı: {speedup_ratio:.4f}\")\n",
        "else:\n",
        "    print(\"Paralel kısım süresi 0 olduğundan hız oranı hesaplanamadı.\")\n",
        "parallel_time\n",
        "# Toplam süre\n",
        "total_time = parallel_time + sequential_time\n",
        "print(f\"Toplam paralel sıralama süresi: {total_time:.2f} ms\")\n",
        "\n",
        "print(\"Sıralanmış dizi:\", sorted_arr[:500])  # Dizi uzun olacağı için ilk 500 elemanı yazdırıyoruz.\n"
      ]
    },
    {
      "cell_type": "code",
      "execution_count": null,
      "metadata": {},
      "outputs": [],
      "source": []
    }
  ],
  "metadata": {
    "colab": {
      "provenance": []
    },
    "kernelspec": {
      "display_name": "Python 3",
      "name": "python3"
    },
    "language_info": {
      "name": "python"
    }
  },
  "nbformat": 4,
  "nbformat_minor": 0
}
